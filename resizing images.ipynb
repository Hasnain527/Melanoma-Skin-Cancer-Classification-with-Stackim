{
 "cells": [
  {
   "cell_type": "code",
   "execution_count": 1,
   "id": "fbe9ca2d",
   "metadata": {},
   "outputs": [],
   "source": [
    "from PIL import Image\n",
    "import glob\n",
    "from tqdm import tqdm "
   ]
  },
  {
   "cell_type": "code",
   "execution_count": 2,
   "id": "6ac7d80c",
   "metadata": {},
   "outputs": [],
   "source": [
    "image_list = []\n",
    "resized_images = []"
   ]
  },
  {
   "cell_type": "code",
   "execution_count": 3,
   "id": "ebc0c61a",
   "metadata": {},
   "outputs": [],
   "source": [
    "for file_name in glob.glob(r\"E:\\test\\in_proceess\\*.jpg\"):\n",
    "    #print(file_name)\n",
    "    img = Image.open(file_name)\n",
    "    image_list.append(img)"
   ]
  },
  {
   "cell_type": "code",
   "execution_count": 4,
   "id": "804a16cb",
   "metadata": {},
   "outputs": [
    {
     "name": "stderr",
     "output_type": "stream",
     "text": [
      "100%|████████████████████████████████████████████████████████████████████████████████| 100/100 [00:20<00:00,  4.88it/s]\n"
     ]
    }
   ],
   "source": [
    "for image in tqdm(image_list):\n",
    "    image = image.resize((300,300))\n",
    "    resized_images.append(image)"
   ]
  },
  {
   "cell_type": "code",
   "execution_count": 5,
   "id": "689f8810",
   "metadata": {},
   "outputs": [],
   "source": [
    "for (i, new) in enumerate(resized_images):\n",
    "    new.save(\"{}{}{}\" .format(r\"E:\\test\\New folder\\\\\", \"ISIC_BenignTest5_\"+str(i+1), \".jpg\"))"
   ]
  }
 ],
 "metadata": {
  "kernelspec": {
   "display_name": "Python 3 (ipykernel)",
   "language": "python",
   "name": "python3"
  },
  "language_info": {
   "codemirror_mode": {
    "name": "ipython",
    "version": 3
   },
   "file_extension": ".py",
   "mimetype": "text/x-python",
   "name": "python",
   "nbconvert_exporter": "python",
   "pygments_lexer": "ipython3",
   "version": "3.9.7"
  }
 },
 "nbformat": 4,
 "nbformat_minor": 5
}
